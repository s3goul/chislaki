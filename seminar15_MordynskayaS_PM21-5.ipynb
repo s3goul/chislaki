{
 "cells": [
  {
   "cell_type": "code",
   "execution_count": 1,
   "id": "e5db63bc",
   "metadata": {},
   "outputs": [],
   "source": [
    "# 1/(1+x**2) + h*(-2*x*y**2)"
   ]
  },
  {
   "cell_type": "code",
   "execution_count": 2,
   "id": "a0741481",
   "metadata": {},
   "outputs": [],
   "source": [
    "import numpy as np"
   ]
  },
  {
   "cell_type": "markdown",
   "id": "263bdd12",
   "metadata": {},
   "source": [
    "1 способ"
   ]
  },
  {
   "cell_type": "code",
   "execution_count": 139,
   "id": "8ad1576d",
   "metadata": {},
   "outputs": [],
   "source": [
    "h1 = 0.5 #шаг1"
   ]
  },
  {
   "cell_type": "code",
   "execution_count": 140,
   "id": "0d94d208",
   "metadata": {},
   "outputs": [],
   "source": [
    "x = np.linspace(0, 2, 5)\n",
    "y1 = np.array([1])"
   ]
  },
  {
   "cell_type": "code",
   "execution_count": 141,
   "id": "36d3e766",
   "metadata": {},
   "outputs": [],
   "source": [
    "for i in range(4):\n",
    "    y1=np.append(y1, y1[i] + h1*(-2*x[i]*y1[i]**2))"
   ]
  },
  {
   "cell_type": "code",
   "execution_count": 142,
   "id": "6003ac77",
   "metadata": {},
   "outputs": [
    {
     "name": "stdout",
     "output_type": "stream",
     "text": [
      "0.15625 0.2 0.04375000000000001\n"
     ]
    }
   ],
   "source": [
    "ans = 1/(1+x[-1]**2) \n",
    "delta = ans - y1[-1]\n",
    "print(y1[-1], ans, delta)"
   ]
  },
  {
   "cell_type": "code",
   "execution_count": null,
   "id": "243bdba5",
   "metadata": {},
   "outputs": [],
   "source": []
  },
  {
   "cell_type": "code",
   "execution_count": 54,
   "id": "fab26980",
   "metadata": {},
   "outputs": [],
   "source": [
    "h2 = 0.25 #шаг2"
   ]
  },
  {
   "cell_type": "code",
   "execution_count": 60,
   "id": "84f99eec",
   "metadata": {},
   "outputs": [],
   "source": [
    "x = np.linspace(0, 2, 9)\n",
    "y2 = np.array([1])"
   ]
  },
  {
   "cell_type": "code",
   "execution_count": 56,
   "id": "ed5b57b5",
   "metadata": {},
   "outputs": [],
   "source": [
    "for i in range(8):\n",
    "    y2=np.append(y2, y2[i] + h2*(-2*x[i]*y2[i]**2))"
   ]
  },
  {
   "cell_type": "code",
   "execution_count": 59,
   "id": "a92ef809",
   "metadata": {},
   "outputs": [
    {
     "name": "stdout",
     "output_type": "stream",
     "text": [
      "0.18162800867570894 0.2 0.01837199132429107\n"
     ]
    }
   ],
   "source": [
    "ans = 1/(1+x[-1]**2) \n",
    "delta = ans - y2[-1]\n",
    "print(y2[-1], ans, delta)"
   ]
  },
  {
   "cell_type": "code",
   "execution_count": null,
   "id": "e4e5c9fc",
   "metadata": {},
   "outputs": [],
   "source": []
  },
  {
   "cell_type": "code",
   "execution_count": 61,
   "id": "e4195f76",
   "metadata": {},
   "outputs": [],
   "source": [
    "h3 = 0.125 #шаг3"
   ]
  },
  {
   "cell_type": "code",
   "execution_count": 69,
   "id": "f41c0e18",
   "metadata": {},
   "outputs": [],
   "source": [
    "x = np.linspace(0, 2, 17)\n",
    "y3 = np.array([1])"
   ]
  },
  {
   "cell_type": "code",
   "execution_count": 70,
   "id": "f8a0a66e",
   "metadata": {},
   "outputs": [],
   "source": [
    "for i in range(16):\n",
    "    y3=np.append(y3, y3[i] + h3*(-2*x[i]*y3[i]**2))"
   ]
  },
  {
   "cell_type": "code",
   "execution_count": 71,
   "id": "8f6d829d",
   "metadata": {
    "scrolled": true
   },
   "outputs": [
    {
     "name": "stdout",
     "output_type": "stream",
     "text": [
      "0.1915474846527599 0.2 0.00845251534724012\n"
     ]
    }
   ],
   "source": [
    "ans = 1/(1+x[-1]**2) \n",
    "delta = ans - y3[-1]\n",
    "print(y3[-1], ans, delta)"
   ]
  },
  {
   "cell_type": "code",
   "execution_count": null,
   "id": "9e8ee6df",
   "metadata": {},
   "outputs": [],
   "source": []
  },
  {
   "cell_type": "markdown",
   "id": "38c12107",
   "metadata": {},
   "source": [
    "2 способ"
   ]
  },
  {
   "cell_type": "code",
   "execution_count": 135,
   "id": "7cf32e0f",
   "metadata": {},
   "outputs": [],
   "source": [
    "h1 = 0.5 #шаг1"
   ]
  },
  {
   "cell_type": "code",
   "execution_count": 136,
   "id": "2dd4592b",
   "metadata": {},
   "outputs": [],
   "source": [
    "x = np.linspace(0, 2, 5)\n",
    "y1 = np.array([1])"
   ]
  },
  {
   "cell_type": "code",
   "execution_count": 137,
   "id": "a61ce512",
   "metadata": {},
   "outputs": [],
   "source": [
    "for i in range(1, 5):\n",
    "    y_= y1[i-1] + h1*(-2*x[i-1]*y1[i-1]**2)\n",
    "    y1=np.append(y1, y1[i-1] + h1/2*(-2*x[i-1]*y1[i-1]**2 + (-2*x[i]*y_**2)))"
   ]
  },
  {
   "cell_type": "code",
   "execution_count": 138,
   "id": "8d23965a",
   "metadata": {},
   "outputs": [
    {
     "name": "stdout",
     "output_type": "stream",
     "text": [
      "0.21948853590387102 0.2 0.019488535903871007\n"
     ]
    }
   ],
   "source": [
    "ans = 1/(1+x[-1]**2) \n",
    "delta = ans - y1[-1]\n",
    "print(y1[-1], ans, abs(delta))"
   ]
  },
  {
   "cell_type": "code",
   "execution_count": null,
   "id": "16403d91",
   "metadata": {},
   "outputs": [],
   "source": []
  },
  {
   "cell_type": "code",
   "execution_count": 127,
   "id": "d297125c",
   "metadata": {},
   "outputs": [],
   "source": [
    "h2 = 0.25 #шаг2"
   ]
  },
  {
   "cell_type": "code",
   "execution_count": 128,
   "id": "76589bd8",
   "metadata": {},
   "outputs": [],
   "source": [
    "x = np.linspace(0, 2, 9)\n",
    "y2 = np.array([1])"
   ]
  },
  {
   "cell_type": "code",
   "execution_count": 129,
   "id": "4a037731",
   "metadata": {},
   "outputs": [],
   "source": [
    "for i in range(1, 9):\n",
    "    y_= y2[i-1] + h2*(-2*x[i-1]*y2[i-1]**2)\n",
    "    y2=np.append(y2, y2[i-1] + h2/2*(-2*x[i-1]*y2[i-1]**2 + (-2*x[i]*y_**2)))"
   ]
  },
  {
   "cell_type": "code",
   "execution_count": 130,
   "id": "19de2939",
   "metadata": {},
   "outputs": [
    {
     "name": "stdout",
     "output_type": "stream",
     "text": [
      "0.20483327296920095 0.2 0.004833272969200941\n"
     ]
    }
   ],
   "source": [
    "ans = 1/(1+x[-1]**2) \n",
    "delta = ans - y2[-1]\n",
    "print(y2[-1], ans, abs(delta))"
   ]
  },
  {
   "cell_type": "code",
   "execution_count": null,
   "id": "4acaa805",
   "metadata": {},
   "outputs": [],
   "source": []
  },
  {
   "cell_type": "code",
   "execution_count": 123,
   "id": "878bf594",
   "metadata": {},
   "outputs": [],
   "source": [
    "h3 = 0.125 #шаг3"
   ]
  },
  {
   "cell_type": "code",
   "execution_count": 124,
   "id": "667dc7d1",
   "metadata": {},
   "outputs": [],
   "source": [
    "x = np.linspace(0, 2, 17)\n",
    "y3 = np.array([1])"
   ]
  },
  {
   "cell_type": "code",
   "execution_count": 125,
   "id": "ced8a332",
   "metadata": {},
   "outputs": [],
   "source": [
    "for i in range(1, 17):\n",
    "    y_= y3[i-1] + h3*(-2*x[i-1]*y3[i-1]**2)\n",
    "    y3=np.append(y3, y3[i-1] + h3/2*(-2*x[i-1]*y3[i-1]**2 + (-2*x[i]*y_**2)))"
   ]
  },
  {
   "cell_type": "code",
   "execution_count": 126,
   "id": "52ae421c",
   "metadata": {
    "scrolled": true
   },
   "outputs": [
    {
     "name": "stdout",
     "output_type": "stream",
     "text": [
      "0.20110524096091625 0.2 0.0011052409609162428\n"
     ]
    }
   ],
   "source": [
    "ans = 1/(1+x[-1]**2) \n",
    "delta = ans - y3[-1]\n",
    "print(y3[-1], ans, abs(delta))"
   ]
  },
  {
   "cell_type": "code",
   "execution_count": null,
   "id": "9012e18f",
   "metadata": {},
   "outputs": [],
   "source": [
    "# 1/(1+x**2) + h*(-2*x*y**2)\n",
    "# 1/(1+x**2) + h*(-2*x*y**2)\n",
    "import numpy as np\n",
    "1 способ\n",
    "\n",
    "h1 = 0.5 #шаг1\n",
    "x = np.linspace(0, 2, 5)\n",
    "y1 = np.array([1])\n",
    "for i in range(4):\n",
    "    y1=np.append(y1, y1[i] + h1*(-2*x[i]*y1[i]**2))\n",
    "ans = 1/(1+x[-1]**2) \n",
    "delta = ans - y1[-1]\n",
    "print(y1[-1], ans, delta)\n",
    "0.15625 0.2 0.04375000000000001\n",
    "​\n",
    "h2 = 0.25 #шаг2\n",
    "x = np.linspace(0, 2, 9)\n",
    "y2 = np.array([1])\n",
    "for i in range(8):\n",
    "    y2=np.append(y2, y2[i] + h2*(-2*x[i]*y2[i]**2))\n",
    "ans = 1/(1+x[-1]**2) \n",
    "delta = ans - y2[-1]\n",
    "print(y2[-1], ans, delta)\n",
    "0.18162800867570894 0.2 0.01837199132429107\n",
    "​\n",
    "h3 = 0.125 #шаг3\n",
    "x = np.linspace(0, 2, 17)\n",
    "y3 = np.array([1])\n",
    "for i in range(16):\n",
    "    y3=np.append(y3, y3[i] + h3*(-2*x[i]*y3[i]**2))\n",
    "ans = 1/(1+x[-1]**2) \n",
    "delta = ans - y3[-1]\n",
    "print(y3[-1], ans, delta)\n",
    "0.1915474846527599 0.2 0.00845251534724012\n",
    "​\n",
    "2 способ\n",
    "\n",
    "h1 = 0.5 #шаг1\n",
    "x = np.linspace(0, 2, 5)\n",
    "y1 = np.array([1])\n",
    "for i in range(1, 5):\n",
    "    y_= y1[i-1] + h1*(-2*x[i-1]*y1[i-1]**2)\n",
    "    y1=np.append(y1, y1[i-1] + h1/2*(-2*x[i-1]*y1[i-1]**2 + (-2*x[i]*y_**2)))\n",
    "ans = 1/(1+x[-1]**2) \n",
    "delta = ans - y1[-1]\n",
    "print(y1[-1], ans, abs(delta))\n",
    "0.21948853590387102 0.2 0.019488535903871007\n",
    "​\n",
    "h2 = 0.25 #шаг2\n",
    "x = np.linspace(0, 2, 9)\n",
    "y2 = np.array([1])\n",
    "for i in range(1, 9):\n",
    "    y_= y2[i-1] + h2*(-2*x[i-1]*y2[i-1]**2)\n",
    "    y2=np.append(y2, y2[i-1] + h2/2*(-2*x[i-1]*y2[i-1]**2 + (-2*x[i]*y_**2)))\n",
    "ans = 1/(1+x[-1]**2) \n",
    "delta = ans - y2[-1]\n",
    "print(y2[-1], ans, abs(delta))\n",
    "0.20483327296920095 0.2 0.004833272969200941\n",
    "​\n",
    "h3 = 0.125 #шаг3\n",
    "x = np.linspace(0, 2, 17)\n",
    "y3 = np.array([1])\n",
    "for i in range(1, 17):\n",
    "    y_= y3[i-1] + h3*(-2*x[i-1]*y3[i-1]**2)\n",
    "    y3=np.append(y3, y3[i-1] + h3/2*(-2*x[i-1]*y3[i-1]**2 + (-2*x[i]*y_**2)))\n",
    "​  \n",
    "ans = 1/(1+x[-1]**2) \n",
    "delta = ans - y3[-1]\n",
    "print(y3[-1], ans, abs(delta))"
   ]
  }
 ],
 "metadata": {
  "kernelspec": {
   "display_name": "Python 3 (ipykernel)",
   "language": "python",
   "name": "python3"
  },
  "language_info": {
   "codemirror_mode": {
    "name": "ipython",
    "version": 3
   },
   "file_extension": ".py",
   "mimetype": "text/x-python",
   "name": "python",
   "nbconvert_exporter": "python",
   "pygments_lexer": "ipython3",
   "version": "3.9.16"
  }
 },
 "nbformat": 4,
 "nbformat_minor": 5
}
