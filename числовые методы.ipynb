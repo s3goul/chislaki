{
 "cells": [
  {
   "cell_type": "code",
   "execution_count": 6,
   "id": "e9ddba97",
   "metadata": {},
   "outputs": [],
   "source": [
    "import math\n",
    "from scipy import integrate"
   ]
  },
  {
   "cell_type": "code",
   "execution_count": 19,
   "id": "596649fc",
   "metadata": {},
   "outputs": [],
   "source": [
    "def f(x):\n",
    "    return x**2-2*x**0.5+4"
   ]
  },
  {
   "cell_type": "code",
   "execution_count": 31,
   "id": "10f5ac0d",
   "metadata": {},
   "outputs": [],
   "source": [
    "def meth_trap(f,a,b,h):\n",
    "    x=a\n",
    "    s = 0\n",
    "    while (x<b-h):\n",
    "        s+= 0.5 * (f(x)+f(x+h)) * h\n",
    "        x+=h\n",
    "    return s"
   ]
  },
  {
   "cell_type": "code",
   "execution_count": 32,
   "id": "e6cb1cb5",
   "metadata": {},
   "outputs": [
    {
     "data": {
      "text/plain": [
       "4.133926202301118"
      ]
     },
     "execution_count": 32,
     "metadata": {},
     "output_type": "execute_result"
    }
   ],
   "source": [
    "meth_trap(f, 2.5, 3, 0.0000001)"
   ]
  },
  {
   "cell_type": "code",
   "execution_count": 33,
   "id": "38a48db8",
   "metadata": {},
   "outputs": [
    {
     "data": {
      "text/plain": [
       "4.133926203338456"
      ]
     },
     "execution_count": 33,
     "metadata": {},
     "output_type": "execute_result"
    }
   ],
   "source": [
    "integrate.quad(f, 2.5, 3)[0]"
   ]
  },
  {
   "cell_type": "code",
   "execution_count": 38,
   "id": "297139a6",
   "metadata": {},
   "outputs": [],
   "source": [
    "def tri_vosmuh(f, a, b, n):\n",
    "    m = 3 * n -1\n",
    "    h = (b-a) / (3*n)\n",
    "    s = f(a) + f(b)\n",
    "    for i in range(m):\n",
    "        x = a + h*i\n",
    "        if i%3 == 0:\n",
    "            s += 2*f(x)\n",
    "        else:\n",
    "            s += 3*f(x)\n",
    "    s = s *3/8*h\n",
    "    return s"
   ]
  },
  {
   "cell_type": "code",
   "execution_count": 39,
   "id": "b30ba748",
   "metadata": {},
   "outputs": [
    {
     "data": {
      "text/plain": [
       "4.1330243571361205"
      ]
     },
     "execution_count": 39,
     "metadata": {},
     "output_type": "execute_result"
    }
   ],
   "source": [
    "tri_vosmuh(f, 2.5, 3, 1000)"
   ]
  },
  {
   "cell_type": "code",
   "execution_count": null,
   "id": "a3f11ff2",
   "metadata": {},
   "outputs": [],
   "source": []
  }
 ],
 "metadata": {
  "kernelspec": {
   "display_name": "Python 3 (ipykernel)",
   "language": "python",
   "name": "python3"
  },
  "language_info": {
   "codemirror_mode": {
    "name": "ipython",
    "version": 3
   },
   "file_extension": ".py",
   "mimetype": "text/x-python",
   "name": "python",
   "nbconvert_exporter": "python",
   "pygments_lexer": "ipython3",
   "version": "3.9.13"
  }
 },
 "nbformat": 4,
 "nbformat_minor": 5
}
