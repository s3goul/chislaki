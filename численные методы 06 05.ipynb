{
 "cells": [
  {
   "cell_type": "code",
   "execution_count": 1,
   "id": "04645a64",
   "metadata": {},
   "outputs": [],
   "source": [
    "import sympy as sp"
   ]
  },
  {
   "cell_type": "code",
   "execution_count": 2,
   "id": "057c054a",
   "metadata": {},
   "outputs": [],
   "source": [
    "x = sp.Symbol('x')"
   ]
  },
  {
   "cell_type": "code",
   "execution_count": 29,
   "id": "6adcaccf",
   "metadata": {},
   "outputs": [],
   "source": [
    "X = [1,2,4,6,7]\n",
    "F = [1,10,4,2,7]"
   ]
  },
  {
   "cell_type": "code",
   "execution_count": 33,
   "id": "06c39b23",
   "metadata": {},
   "outputs": [],
   "source": [
    "ans = 0\n",
    "for i in range(len(X)):\n",
    "    a = F[i]\n",
    "    for j in range(len(X)):\n",
    "        if i != j:\n",
    "            a *= (x-X[j]) / (X[i]-X[j])\n",
    "    ans += a"
   ]
  },
  {
   "cell_type": "code",
   "execution_count": 35,
   "id": "67b47ccb",
   "metadata": {},
   "outputs": [
    {
     "data": {
      "text/latex": [
       "$\\displaystyle - \\frac{x^{4}}{10} + \\frac{11 x^{3}}{5} - \\frac{159 x^{2}}{10} + \\frac{214 x}{5} - 28$"
      ],
      "text/plain": [
       "-x**4/10 + 11*x**3/5 - 159*x**2/10 + 214*x/5 - 28"
      ]
     },
     "execution_count": 35,
     "metadata": {},
     "output_type": "execute_result"
    }
   ],
   "source": [
    "sp.simplify(ans)"
   ]
  },
  {
   "cell_type": "code",
   "execution_count": 36,
   "id": "a4d6d82b",
   "metadata": {},
   "outputs": [],
   "source": [
    "import math\n",
    "from scipy import integrate"
   ]
  },
  {
   "cell_type": "code",
   "execution_count": 43,
   "id": "ca9861e2",
   "metadata": {},
   "outputs": [],
   "source": [
    "def f(x):\n",
    "    return math.sin(x**2+2.5)/(x**3+3)"
   ]
  },
  {
   "cell_type": "code",
   "execution_count": 46,
   "id": "463b56e9",
   "metadata": {},
   "outputs": [],
   "source": [
    "def meth_rect(f,a,b,h):\n",
    "    x=a\n",
    "    s = 0\n",
    "    while (x<b-h):\n",
    "        s+= h *f((x+h+x)/2)\n",
    "        x+=h\n",
    "    return s"
   ]
  },
  {
   "cell_type": "code",
   "execution_count": 47,
   "id": "1a202210",
   "metadata": {},
   "outputs": [
    {
     "data": {
      "text/plain": [
       "-0.07812918643424166"
      ]
     },
     "execution_count": 47,
     "metadata": {},
     "output_type": "execute_result"
    }
   ],
   "source": [
    "meth_rect(f, 0.4, 2.2, 0.0000001)"
   ]
  },
  {
   "cell_type": "code",
   "execution_count": 48,
   "id": "8eda3b4a",
   "metadata": {},
   "outputs": [],
   "source": [
    "def meth_rect_v1(f,a,b,h):\n",
    "    x=a\n",
    "    s = 0\n",
    "    while (x<b-h):\n",
    "        s += max(f(x), f(x+h)) * h\n",
    "        x+=h\n",
    "    return s"
   ]
  },
  {
   "cell_type": "code",
   "execution_count": 49,
   "id": "6e768450",
   "metadata": {},
   "outputs": [
    {
     "data": {
      "text/plain": [
       "-0.07812915873397595"
      ]
     },
     "execution_count": 49,
     "metadata": {},
     "output_type": "execute_result"
    }
   ],
   "source": [
    "meth_rect_v1(f, 0.4, 2.2, 0.0000001)"
   ]
  },
  {
   "cell_type": "code",
   "execution_count": 50,
   "id": "7a97ffb7",
   "metadata": {},
   "outputs": [],
   "source": [
    "def f(x):\n",
    "    return math.cos(x)/(2+math.sin(x))"
   ]
  },
  {
   "cell_type": "code",
   "execution_count": 51,
   "id": "fa141a50",
   "metadata": {},
   "outputs": [
    {
     "data": {
      "text/plain": [
       "0.027147224556568005"
      ]
     },
     "execution_count": 51,
     "metadata": {},
     "output_type": "execute_result"
    }
   ],
   "source": [
    "meth_rect_v1(f, 2, 8, 0.0000001)"
   ]
  },
  {
   "cell_type": "code",
   "execution_count": 53,
   "id": "dcb793e6",
   "metadata": {},
   "outputs": [],
   "source": [
    "def meth_trap(f,a,b,h):\n",
    "    x=a\n",
    "    s = 0\n",
    "    while (x<b-h):\n",
    "        s+= 0.5 * (f(x)+f(x+h)) * h\n",
    "        x+=h\n",
    "    return s"
   ]
  },
  {
   "cell_type": "code",
   "execution_count": null,
   "id": "6156957a",
   "metadata": {},
   "outputs": [],
   "source": []
  }
 ],
 "metadata": {
  "kernelspec": {
   "display_name": "Python 3 (ipykernel)",
   "language": "python",
   "name": "python3"
  },
  "language_info": {
   "codemirror_mode": {
    "name": "ipython",
    "version": 3
   },
   "file_extension": ".py",
   "mimetype": "text/x-python",
   "name": "python",
   "nbconvert_exporter": "python",
   "pygments_lexer": "ipython3",
   "version": "3.9.13"
  }
 },
 "nbformat": 4,
 "nbformat_minor": 5
}
