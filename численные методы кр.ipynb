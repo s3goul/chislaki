{
 "cells": [
  {
   "cell_type": "markdown",
   "id": "becab3d9",
   "metadata": {},
   "source": [
    "# Контрольная работа\n",
    "## Здоронок Евгений ПМ21-5 Вариант 5"
   ]
  },
  {
   "cell_type": "markdown",
   "id": "7d0dc46a",
   "metadata": {},
   "source": [
    "## Задание №1"
   ]
  },
  {
   "cell_type": "code",
   "execution_count": 13,
   "id": "92441ca4",
   "metadata": {},
   "outputs": [],
   "source": [
    "import math"
   ]
  },
  {
   "cell_type": "code",
   "execution_count": 46,
   "id": "c49b1f87",
   "metadata": {},
   "outputs": [],
   "source": [
    "#Функция из условия\n",
    "def f(x):\n",
    "    return math.log(x)**0.55"
   ]
  },
  {
   "cell_type": "code",
   "execution_count": 47,
   "id": "9897f81c",
   "metadata": {},
   "outputs": [],
   "source": [
    "x = [11, 14, 17] #узлы интерполирования\n",
    "y = [f(xi) for xi in x] #значение функции в узлах\n",
    "a = 15.5"
   ]
  },
  {
   "cell_type": "code",
   "execution_count": 48,
   "id": "18bb3d78",
   "metadata": {},
   "outputs": [],
   "source": [
    "#функция подсчета интерполяционного полинома Лагранжа\n",
    "def lagrange(x, y, a): \n",
    "    n = len(x)\n",
    "    L = 0\n",
    "    for i in range(n):\n",
    "        l = 1\n",
    "        for j in range(n):\n",
    "            if i != j:\n",
    "                l *= (a - x[j]) / (x[i] - x[j])\n",
    "        L += y[i] * l\n",
    "    return L"
   ]
  },
  {
   "cell_type": "code",
   "execution_count": 49,
   "id": "e2539edf",
   "metadata": {},
   "outputs": [],
   "source": [
    "#значение интерполяционного полинома Лагранжа в точке a\n",
    "L = lagrange(x, y, a) "
   ]
  },
  {
   "cell_type": "code",
   "execution_count": 50,
   "id": "7689e124",
   "metadata": {},
   "outputs": [
    {
     "name": "stdout",
     "output_type": "stream",
     "text": [
      "Значение f(15.5) = 1.741149362501801\n",
      "Значение L(15.5) = 1.7416905756403045\n",
      "Погрешность интерполяции в точке 15.5 = 0.0005412131385034158\n"
     ]
    }
   ],
   "source": [
    "print(f'Значение f({a}) = {f(a)}')\n",
    "print(f'Значение L({a}) = {L}')\n",
    "print(f'Погрешность интерполяции в точке {a} = {abs(f(a) - L)}')"
   ]
  },
  {
   "cell_type": "markdown",
   "id": "983b9183",
   "metadata": {},
   "source": [
    "## Задание №2"
   ]
  },
  {
   "cell_type": "code",
   "execution_count": 35,
   "id": "f3e59b55",
   "metadata": {},
   "outputs": [
    {
     "data": {
      "image/png": "[encoded data removed]",
      "text/plain": [
       "<Figure size 640x480 with 1 Axes>"
      ]
     },
     "metadata": {},
     "output_type": "display_data"
    }
   ],
   "source": [
    "import numpy as np\n",
    "import matplotlib.pyplot as plt\n",
    "\n",
    "def f(x, y):\n",
    "    return np.sin(y+1) - x - 1\n",
    "\n",
    "def g(x, y):\n",
    "    return 2*y + np.cos(x) - 2\n",
    "\n",
    "x = np.linspace(-5, 5, 1000)\n",
    "y = np.linspace(-5, 5, 1000)\n",
    "X, Y = np.meshgrid(x, y)\n",
    "\n",
    "F = f(X, Y)\n",
    "G = g(X, Y)\n",
    "\n",
    "#графический поиск корней\n",
    "plt.contour(X, Y, F, [0], colors='red')\n",
    "plt.contour(X, Y, G, [0], colors='blue')\n",
    "plt.grid()\n",
    "plt.show()"
   ]
  },
  {
   "cell_type": "code",
   "execution_count": 33,
   "id": "b97a60e1",
   "metadata": {},
   "outputs": [],
   "source": [
    "#метод Зейделя\n",
    "def zeidel_method(f1, f2, x0, y0, e):\n",
    "    x1, y1 = x0, y0\n",
    "    while True:\n",
    "        x0, y0 = x1, y1\n",
    "        x1 = f1(y0)\n",
    "        y1 = f2(x1)\n",
    "        if np.sqrt((x1 - x0)**2 + (y1 - y0)**2) < e:\n",
    "            break\n",
    "    return x1, y1\n",
    "\n",
    "f1 = lambda y: np.sin(y+1) -1\n",
    "f2 = lambda x: (2 - np.cos(x)) / 2  "
   ]
  },
  {
   "cell_type": "code",
   "execution_count": 34,
   "id": "9179af12",
   "metadata": {},
   "outputs": [
    {
     "name": "stdout",
     "output_type": "stream",
     "text": [
      "x = -0.0025049368048156717\n",
      "y = 0.5000015686762788\n"
     ]
    }
   ],
   "source": [
    "x, y = zeidel_method(f1, f2, x0, y0, e)\n",
    "\n",
    "#Решение системы\n",
    "print(\"x =\", x)\n",
    "print(\"y =\", y)"
   ]
  }
 ],
 "metadata": {
  "kernelspec": {
   "display_name": "Python 3 (ipykernel)",
   "language": "python",
   "name": "python3"
  },
  "language_info": {
   "codemirror_mode": {
    "name": "ipython",
    "version": 3
   },
   "file_extension": ".py",
   "mimetype": "text/x-python",
   "name": "python",
   "nbconvert_exporter": "python",
   "pygments_lexer": "ipython3",
   "version": "3.9.16"
  }
 },
 "nbformat": 4,
 "nbformat_minor": 5
}
