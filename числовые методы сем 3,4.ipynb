{
 "cells": [
  {
   "cell_type": "markdown",
   "id": "2efb85cf",
   "metadata": {},
   "source": [
    "# Метод простой итерации"
   ]
  },
  {
   "cell_type": "code",
   "execution_count": 1,
   "id": "a3f11ff2",
   "metadata": {},
   "outputs": [],
   "source": [
    "import numpy as np"
   ]
  },
  {
   "cell_type": "code",
   "execution_count": 45,
   "id": "d9910667",
   "metadata": {},
   "outputs": [],
   "source": [
    "def method_iteration(A, B, max_iterations=100, tolerance=1e-10):\n",
    "    n_rows, n_cols = A.shape\n",
    "\n",
    "    x = np.zeros((n_rows, 1))\n",
    "    for i in range(n_rows):\n",
    "        x[i] = B[i]/A[i][i]\n",
    "        \n",
    "    for k in range(max_iterations):\n",
    "        x_new = np.zeros((n_rows, 1))\n",
    "\n",
    "        for i in range(n_rows):\n",
    "            s = 0\n",
    "            \n",
    "            for j in range(n_cols):\n",
    "                if j != i:\n",
    "                    s += A[i][j] * x[j]\n",
    "            x_new[i] = (B[i] - s) / A[i][i] \n",
    "        #print(x)\n",
    "        if np.linalg.norm(x_new - x) < tolerance:\n",
    "            #print(x_new)\n",
    "            print(f'Количество итераций: {k}')\n",
    "            return x_new\n",
    "\n",
    "        x = x_new\n",
    "    print(f'Количество итераций: {k}')\n",
    "    return x_new"
   ]
  },
  {
   "cell_type": "code",
   "execution_count": 15,
   "id": "3a969516",
   "metadata": {},
   "outputs": [],
   "source": [
    "A = np.array([[20.9, 1.2, 2.1, .9],[1.2, 21.2, 1.5, 2.5],[2.1, 1.5, 19.8, 1.3], [.9, 2.5, 1.3, 32.1]])\n",
    "B = np.array([[21.7],[27.46],[28.76], [49.72]])"
   ]
  },
  {
   "cell_type": "code",
   "execution_count": 16,
   "id": "ba1b0c20",
   "metadata": {},
   "outputs": [
    {
     "data": {
      "text/plain": [
       "array([[0.80001962],\n",
       "       [1.00002128],\n",
       "       [1.20002228],\n",
       "       [1.40001483]])"
      ]
     },
     "execution_count": 16,
     "metadata": {},
     "output_type": "execute_result"
    }
   ],
   "source": [
    "method_iteration(A, B, tolerance=1e-3)"
   ]
  },
  {
   "cell_type": "markdown",
   "id": "57f5e1ab",
   "metadata": {},
   "source": [
    "# Метод Зейделя"
   ]
  },
  {
   "cell_type": "code",
   "execution_count": 49,
   "id": "5293f747",
   "metadata": {},
   "outputs": [],
   "source": [
    "def method_seidel(A, b, x0, tol=1e-10, max_iter=1000):\n",
    "    n = len(b)\n",
    "    x = x0.copy()\n",
    "\n",
    "    for k in range(max_iter):\n",
    "        for i in range(n):\n",
    "            x[i] = (b[i] - sum(A[i][j] * x[j] for j in range(i)) - sum(A[i][j] * x0[j] for j in range(i + 1, n))) / A[i, i]\n",
    "        if np.linalg.norm(x - x0) < tol:\n",
    "            print(f'Количество итераций: {k}')\n",
    "            return x\n",
    "        x0 = x.copy()\n",
    "    print(f'Количество итераций: {k}')\n",
    "    raise x"
   ]
  },
  {
   "cell_type": "code",
   "execution_count": 33,
   "id": "1a068b97",
   "metadata": {},
   "outputs": [],
   "source": [
    "A = np.array([[20.9, 1.2, 2.1, .9],[1.2, 21.2, 1.5, 2.5],[2.1, 1.5, 19.8, 1.3], [.9, 2.5, 1.3, 32.1]])\n",
    "B = np.array([[21.7],[27.46],[28.76], [49.72]])\n",
    "x0 = np.zeros(len(B))"
   ]
  },
  {
   "cell_type": "code",
   "execution_count": 37,
   "id": "b1d0bfdc",
   "metadata": {},
   "outputs": [
    {
     "name": "stdout",
     "output_type": "stream",
     "text": [
      "698 µs ± 26.7 µs per loop (mean ± std. dev. of 7 runs, 1000 loops each)\n"
     ]
    }
   ],
   "source": [
    "%%timeit \n",
    "method_seidel(A,B,x0)"
   ]
  },
  {
   "cell_type": "code",
   "execution_count": 38,
   "id": "bb5ad96f",
   "metadata": {},
   "outputs": [
    {
     "name": "stdout",
     "output_type": "stream",
     "text": [
      "1.88 ms ± 36.5 µs per loop (mean ± std. dev. of 7 runs, 1000 loops each)\n"
     ]
    }
   ],
   "source": [
    "%%timeit \n",
    "method_iteration(A, B)"
   ]
  },
  {
   "cell_type": "code",
   "execution_count": 50,
   "id": "bb814488",
   "metadata": {},
   "outputs": [
    {
     "name": "stdout",
     "output_type": "stream",
     "text": [
      "Количество итераций: 8\n"
     ]
    },
    {
     "data": {
      "text/plain": [
       "array([0.8, 1. , 1.2, 1.4])"
      ]
     },
     "execution_count": 50,
     "metadata": {},
     "output_type": "execute_result"
    }
   ],
   "source": [
    "method_seidel(A,B,x0)"
   ]
  },
  {
   "cell_type": "code",
   "execution_count": 51,
   "id": "527bf69d",
   "metadata": {},
   "outputs": [
    {
     "name": "stdout",
     "output_type": "stream",
     "text": [
      "15\n"
     ]
    },
    {
     "data": {
      "text/plain": [
       "array([[0.8],\n",
       "       [1. ],\n",
       "       [1.2],\n",
       "       [1.4]])"
      ]
     },
     "execution_count": 51,
     "metadata": {},
     "output_type": "execute_result"
    }
   ],
   "source": [
    "method_iteration(A, B)"
   ]
  },
  {
   "cell_type": "markdown",
   "id": "b44d67e6",
   "metadata": {},
   "source": [
    "# Вывод\n",
    "### Метод Зейделя быстрее метода простой итерации примерно в 2.5 раза и количество итераций в 2 раза меньше"
   ]
  },
  {
   "cell_type": "markdown",
   "id": "b843c28e",
   "metadata": {},
   "source": [
    "# Метод Гаусса"
   ]
  },
  {
   "cell_type": "code",
   "execution_count": 84,
   "id": "2d36550a",
   "metadata": {},
   "outputs": [],
   "source": [
    "def gaussian_elimination(A, b):\n",
    "    n = len(b)\n",
    "    Ab = np.hstack((A, b.reshape(n, 1)))  # объединяем матрицу A и вектор b в расширенную матрицу Ab\n",
    "\n",
    "    for i in range(n):\n",
    "        # ищем максимальный элемент в i-м столбце и переставляем строки, чтобы он был на главной диагонали\n",
    "        max_row = i + np.argmax(np.abs(Ab[i:, i]))\n",
    "        Ab[[i, max_row]] = Ab[[max_row, i]]\n",
    "        \n",
    "        # приводим i-ю строку к единичному виду, деля на элемент Ab[i, i]\n",
    "        Ab[i] /= Ab[i, i]\n",
    "\n",
    "        # вычитаем i-ю строку из всех нижних строк, чтобы обнулить i-й столбец\n",
    "        Ab[i+1:] -= Ab[i] * Ab[i+1:, i:i+1]\n",
    "    \n",
    "    print(Ab)\n",
    "    # обратный ход метода Гаусса для нахождения решения\n",
    "    x = np.zeros(n)\n",
    "    for i in range(n-1, -1, -1):\n",
    "        x[i] = Ab[i, -1] - Ab[i, :-1] @ x\n",
    "    return x"
   ]
  },
  {
   "cell_type": "code",
   "execution_count": 85,
   "id": "c456ad45",
   "metadata": {},
   "outputs": [
    {
     "name": "stdout",
     "output_type": "stream",
     "text": [
      "[[1.         0.05741627 0.10047847 0.0430622  1.03827751]\n",
      " [0.         1.         0.06527941 0.1158636  1.24054433]\n",
      " [0.         0.         1.         0.05383594 1.27537032]\n",
      " [0.         0.         0.         1.         1.4       ]]\n",
      "Wall time: 5.74 ms\n"
     ]
    },
    {
     "data": {
      "text/plain": [
       "array([0.8, 1. , 1.2, 1.4])"
      ]
     },
     "execution_count": 85,
     "metadata": {},
     "output_type": "execute_result"
    }
   ],
   "source": [
    "%%time\n",
    "gaussian_elimination(A, B)"
   ]
  },
  {
   "cell_type": "code",
   "execution_count": null,
   "id": "e6a08729",
   "metadata": {},
   "outputs": [],
   "source": []
  }
 ],
 "metadata": {
  "kernelspec": {
   "display_name": "Python 3 (ipykernel)",
   "language": "python",
   "name": "python3"
  },
  "language_info": {
   "codemirror_mode": {
    "name": "ipython",
    "version": 3
   },
   "file_extension": ".py",
   "mimetype": "text/x-python",
   "name": "python",
   "nbconvert_exporter": "python",
   "pygments_lexer": "ipython3",
   "version": "3.9.13"
  }
 },
 "nbformat": 4,
 "nbformat_minor": 5
}
